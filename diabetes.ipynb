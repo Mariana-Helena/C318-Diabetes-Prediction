{
 "cells": [
  {
   "cell_type": "markdown",
   "id": "9356748f",
   "metadata": {},
   "source": [
    "# Disciplina Tópicos Especiais II (C318)"
   ]
  },
  {
   "cell_type": "markdown",
   "id": "b557e322",
   "metadata": {},
   "source": [
    "###### Curso: Fundamentos de Machine Learning\n",
    "###### Alunas: Luana Gribel, Mariana Helena, Sarah Brandão e Sinara Pimenta\n",
    "###### Professor: Ricardo Augusto\n",
    "\n",
    "End-to-End Machine Learning Project - Análise e Modelagem - Dataframe: Diabetes"
   ]
  },
  {
   "cell_type": "markdown",
   "id": "dcb9d91c",
   "metadata": {},
   "source": [
    "-------------------------------------------------------------------------------------------------------------------------------"
   ]
  },
  {
   "cell_type": "markdown",
   "id": "bb41cd5c",
   "metadata": {},
   "source": [
    "##### Objetivo: Prever se um paciente tem diabetes ou tendência a ter essa doença com bases em alguns dados médicos.\n",
    "\n",
    "##### Regras de Negócio:\n",
    "- É possível prever que um indivíduo pode possuir diabetes com base em dados médicos de forma automatizada, sem supervisão profissional?\n",
    "\n",
    "- Qual o principal sintoma?\n",
    "\n",
    "- Qual a principal doença recorrente em quem tem diabetes?\n",
    "\n",
    "- Existe uma tendência maior em algum gênero ou faixa etária?\n",
    "\n",
    "##### Tipo de problema: Classificação Binária\n",
    "\n",
    "##### Enquadramento:\n",
    "Aprendizagem supervisionada, porque a saída é conhecida."
   ]
  },
  {
   "cell_type": "markdown",
   "id": "52621c3c",
   "metadata": {},
   "source": [
    "## Importação de dados e bibliotecas"
   ]
  },
  {
   "cell_type": "markdown",
   "id": "9869c15f",
   "metadata": {},
   "source": [
    "##### Bibliotecas utilizadas no projeto"
   ]
  },
  {
   "cell_type": "code",
   "execution_count": 1,
   "id": "1454e328",
   "metadata": {},
   "outputs": [],
   "source": [
    "import pandas as pd\n",
    "import numpy as np\n",
    "import matplotlib.pyplot as plt\n",
    "import seaborn as sns\n",
    "import klib\n",
    "from sklearn.model_selection import StratifiedKFold \n",
    "from sklearn.ensemble import RandomForestClassifier\n",
    "from sklearn.model_selection import train_test_split\n",
    "from sklearn.metrics import mean_squared_error\n",
    "from sklearn.metrics import confusion_matrix"
   ]
  },
  {
   "cell_type": "markdown",
   "id": "f12f4e46",
   "metadata": {},
   "source": [
    "##### Importação da base de dados"
   ]
  },
  {
   "cell_type": "code",
   "execution_count": null,
   "id": "07da509c",
   "metadata": {},
   "outputs": [],
   "source": [
    "# Especificando diretório para carregamento do arquivo (.csv)\n",
    "df = pd.read_csv('diabetes.csv')"
   ]
  },
  {
   "cell_type": "code",
   "execution_count": null,
   "id": "5d7d5dfe",
   "metadata": {
    "scrolled": true
   },
   "outputs": [],
   "source": [
    "# Informações sobre o dataframe (atributo info)\n",
    "df.info()"
   ]
  },
  {
   "cell_type": "markdown",
   "id": "daae8df4",
   "metadata": {},
   "source": [
    "##### Informações sobre o dataset:\n",
    "\n",
    "Contexto: Dataset obtido a partir da coleta de dados com a aplicação de questionários para os pacientes do Sylhet Diabetes Hospital in Sylhet em Bangladesh.\n",
    "\n",
    "Atributos:\n",
    "\n",
    "| Atributo | Descrição | Valores |\n",
    "|--- |--- |--- |\n",
    "| Age | Faixa etária abordada na pesquisa | 20-65 |\n",
    "| Gender | Gênero | Male/Female |\n",
    "| Polyuria | Termo médico que faz referência ao sintoma de urinar em excesso (acima de 2,5 litros por dia) | Yes/No |\n",
    "| Polydipsia | Polidipsia é um termo médico que define o sintoma caracterizado por excessiva sensação de sede | Yes/No |\n",
    "| Sudden weight loss | Perda de peso repentina | Yes/No |\n",
    "| Weakness | Fraqueza | Yes/No |\n",
    "| Polyphagia | Polifagia é um sinal médico que significa fome excessiva e ingestão anormalmente alta de sólidos pela boca | Yes/No |\n",
    "| Genital thrush | (Candidíase) é uma infecção fúngica causada por qualquer tipo do fungo Candida. | Yes/No |\n",
    "| Visual blurring | Visão turva | Yes/No |\n",
    "| Itching | Coceira | Yes/No |\n",
    "| Irritability | Irritabilidade | Yes/No |\n",
    "| Delayed healing | Cura demorada | Yes/No |\n",
    "| Partial paresis | Paresia (Diminuição da força muscular)| Yes/No |\n",
    "| Muscle stiffness | Rigidez muscilar| Yes/No |\n",
    "| Alopecia | Perda de pelos do corpo | Yes/No |\n",
    "| Obesity | Obesidade | Yes/No |\n",
    "| Class | Classificação (Possui ou não diabetes) | Positive/Negative |"
   ]
  },
  {
   "cell_type": "markdown",
   "id": "aee4dd92",
   "metadata": {},
   "source": [
    "## Informações iniciais "
   ]
  },
  {
   "cell_type": "code",
   "execution_count": null,
   "id": "d4795ca1",
   "metadata": {},
   "outputs": [],
   "source": [
    "# Descrição estatística do atributo Age\n",
    "df.describe()"
   ]
  },
  {
   "cell_type": "markdown",
   "id": "ae7e7b6d",
   "metadata": {},
   "source": [
    "Conclusão:"
   ]
  },
  {
   "cell_type": "code",
   "execution_count": null,
   "id": "618145db",
   "metadata": {
    "scrolled": false
   },
   "outputs": [],
   "source": [
    "# Verificando as variáveis categóricas\n",
    "generos = df[\"Gender\"].value_counts()\n",
    "print(generos)\n",
    "print('----------------------------')\n",
    "poliuria = df[\"Polyuria\"].value_counts()\n",
    "print(poliuria)\n",
    "print('----------------------------')\n",
    "polidipsia = df[\"Polydipsia\"].value_counts()\n",
    "print(polidipsia)\n",
    "print('----------------------------')\n",
    "perda_peso = df[\"sudden weight loss\"].value_counts()\n",
    "print(perda_peso)\n",
    "print('----------------------------')\n",
    "poliuria = df[\"weakness\"].value_counts()\n",
    "print(poliuria)\n",
    "print('----------------------------')\n",
    "poliuria = df[\"Polyphagia\"].value_counts()\n",
    "print(poliuria)\n",
    "print('----------------------------')\n",
    "poliuria = df[\"Genital thrush\"].value_counts()\n",
    "print(poliuria)\n",
    "print('----------------------------')\n",
    "poliuria = df[\"visual blurring\"].value_counts()\n",
    "print(poliuria)\n",
    "print('----------------------------')\n",
    "poliuria = df[\"Itching\"].value_counts()\n",
    "print(poliuria)\n",
    "print('----------------------------')\n",
    "poliuria = df[\"Irritability\"].value_counts()\n",
    "print(poliuria)\n",
    "print('----------------------------')\n",
    "poliuria = df[\"delayed healing\"].value_counts()\n",
    "print(poliuria)\n",
    "print('----------------------------')\n",
    "poliuria = df[\"partial paresis\"].value_counts()\n",
    "print(poliuria)\n",
    "print('----------------------------')\n",
    "poliuria = df[\"muscle stiffness\"].value_counts()\n",
    "print(poliuria)\n",
    "print('----------------------------')\n",
    "poliuria = df[\"Alopecia\"].value_counts()\n",
    "print(poliuria)\n",
    "print('----------------------------')\n",
    "poliuria = df[\"Obesity\"].value_counts()\n",
    "print(poliuria)"
   ]
  },
  {
   "cell_type": "markdown",
   "id": "9fc687e4",
   "metadata": {},
   "source": [
    "comentar da obesidade"
   ]
  },
  {
   "cell_type": "markdown",
   "id": "19a17e94",
   "metadata": {},
   "source": [
    "Análise para o classificador não ficar inclinado a uma resposta:"
   ]
  },
  {
   "cell_type": "code",
   "execution_count": null,
   "id": "dcf7d24f",
   "metadata": {
    "scrolled": true
   },
   "outputs": [],
   "source": [
    "df[\"class\"].value_counts()"
   ]
  },
  {
   "cell_type": "code",
   "execution_count": null,
   "id": "5f388780",
   "metadata": {
    "scrolled": false
   },
   "outputs": [],
   "source": [
    "# Histograma plotado em cima da quantidade de pessoas\n",
    "df['Age'].hist(bins = 50)\n",
    "plt.xlabel('Idade')\n",
    "plt.ylabel('Quantidade de pessoas')"
   ]
  },
  {
   "cell_type": "code",
   "execution_count": null,
   "id": "aafac972",
   "metadata": {},
   "outputs": [],
   "source": [
    "Estatistica distribuição da amostra."
   ]
  },
  {
   "cell_type": "code",
   "execution_count": null,
   "id": "8586eba0",
   "metadata": {},
   "outputs": [],
   "source": [
    "# Biblioteca para análise de dados (visualizações estatísticas)\n",
    "import klib"
   ]
  },
  {
   "cell_type": "code",
   "execution_count": null,
   "id": "54a7d9b2",
   "metadata": {
    "scrolled": false
   },
   "outputs": [],
   "source": [
    "#Dispersão da variável Age\n",
    "klib.dist_plot(df['Age'])"
   ]
  },
  {
   "cell_type": "markdown",
   "id": "12b58337",
   "metadata": {},
   "source": [
    "Saindo de uma estimativa empirica para uma densidade (histograma----func distribuição). Estatistica distribuição da população.\n",
    "Densidade de probabilidade da população.\n",
    "Inferencia estatística\n",
    "\n",
    "skew: o quao assimetrico\n",
    "Kurtosis: o quao achatada"
   ]
  },
  {
   "cell_type": "code",
   "execution_count": null,
   "id": "c475d6cb",
   "metadata": {},
   "outputs": [],
   "source": [
    "#Dispersão da variável Age, para pessoas que possuem diabetes\n",
    "df_positive = df[(df['class']=='Positive')]\n",
    "klib.dist_plot(df_positive['Age'])"
   ]
  },
  {
   "cell_type": "code",
   "execution_count": null,
   "id": "ea7155c2",
   "metadata": {},
   "outputs": [],
   "source": [
    "#Dispersão da variável Age, para pessoas que não possuem diabetes\n",
    "df_negative = df[(df['class']=='Negative')]\n",
    "klib.dist_plot(df_negative['Age'])"
   ]
  },
  {
   "cell_type": "markdown",
   "id": "09a90928",
   "metadata": {},
   "source": [
    "#### Preparação dos Dados - Manipulando features categóricas (ordinal encoder)"
   ]
  },
  {
   "cell_type": "code",
   "execution_count": null,
   "id": "a644005a",
   "metadata": {
    "scrolled": true
   },
   "outputs": [],
   "source": [
    "df = df.replace(['Male','Female','Yes','No','Positive','Negative'],(1,0,1,0,1,0))\n",
    "df.head()"
   ]
  },
  {
   "cell_type": "markdown",
   "id": "b413dc94",
   "metadata": {},
   "source": [
    "## Amostragem \n",
    "\n",
    "Criação de conjuntos de dados de treino e teste. \n",
    "\n",
    "O método utilizado foi Train test split. -> guardar a proporção das classes"
   ]
  },
  {
   "cell_type": "code",
   "execution_count": null,
   "id": "e6e8173e",
   "metadata": {},
   "outputs": [],
   "source": [
    "#%% Método de Amostragem Aleatória Simples (Sklearn)\n",
    "# Função do scikit-learn train_test_split\n",
    "train_set, test_set = train_test_split(df, test_size = 0.2, random_state = 60)"
   ]
  },
  {
   "cell_type": "code",
   "execution_count": null,
   "id": "56070bcd",
   "metadata": {},
   "outputs": [],
   "source": [
    "print(f\"Tamanho conjunto de treino: {len(train_set)}\")\n",
    "print(f\"Tamanho conjunto de teste: {len(test_set)}\")"
   ]
  },
  {
   "cell_type": "markdown",
   "id": "2268330b",
   "metadata": {},
   "source": [
    "## Investigando Correlações\n",
    "\n",
    "Será analisado o dataframe de treino. Objetivo de conhecer o dados e detectar as melhores variáveis para se trabalhar."
   ]
  },
  {
   "cell_type": "code",
   "execution_count": null,
   "id": "3c7486fe",
   "metadata": {},
   "outputs": [],
   "source": [
    "#como realizar correlações com labels\n",
    "#modelo de ml para identificar a importancia das variaveis categoricas"
   ]
  },
  {
   "cell_type": "code",
   "execution_count": null,
   "id": "6c16ac6b",
   "metadata": {},
   "outputs": [],
   "source": [
    "# Fazendo a estimativa da matriz de correlação das variáveis do dataframe\n",
    "correlation_matrix = train_set.corr(method='pearson')"
   ]
  },
  {
   "cell_type": "code",
   "execution_count": null,
   "id": "394b4da5",
   "metadata": {},
   "outputs": [],
   "source": [
    "plt.figure(figsize=(15,10))\n",
    "top_corr_features = correlation_matrix.index\n",
    "sns.heatmap(correlation_matrix[top_corr_features],annot=True,cmap=\"RdYlGn\")"
   ]
  },
  {
   "cell_type": "code",
   "execution_count": null,
   "id": "0e8bfbc4",
   "metadata": {},
   "outputs": [],
   "source": [
    "klib.corr_plot(train_set)"
   ]
  },
  {
   "cell_type": "code",
   "execution_count": null,
   "id": "77cb8f45",
   "metadata": {},
   "outputs": [],
   "source": [
    "klib.corr_plot(train_set, target='class')"
   ]
  },
  {
   "cell_type": "markdown",
   "id": "2e1a5760",
   "metadata": {},
   "source": [
    "### Modelagem\n",
    "\n",
    "Um classificador random forest pode ser utilizado para computar a importância das features."
   ]
  },
  {
   "cell_type": "code",
   "execution_count": null,
   "id": "048e9fb6",
   "metadata": {},
   "outputs": [],
   "source": [
    "X_train = train_set.iloc[:, 0:16].to_numpy()\n",
    "\n",
    "y_train = train_set.loc[:, 'class'].to_numpy()"
   ]
  },
  {
   "cell_type": "code",
   "execution_count": null,
   "id": "728a13e1",
   "metadata": {},
   "outputs": [],
   "source": [
    "feature_names = [f\"feature {i}\" for i in range(X_train.shape[1])]\n",
    "forest = RandomForestClassifier(n_estimators=100)\n",
    "forest.fit(X_train, y_train)"
   ]
  },
  {
   "cell_type": "code",
   "execution_count": null,
   "id": "29d6d4bb",
   "metadata": {},
   "outputs": [],
   "source": [
    "importances = forest.feature_importances_\n",
    "std = np.std([tree.feature_importances_ for tree in forest.estimators_], axis=0)"
   ]
  },
  {
   "cell_type": "code",
   "execution_count": null,
   "id": "e9fdb394",
   "metadata": {},
   "outputs": [],
   "source": [
    "importances"
   ]
  },
  {
   "cell_type": "code",
   "execution_count": null,
   "id": "2f293e70",
   "metadata": {},
   "outputs": [],
   "source": [
    "import pandas as pd\n",
    "\n",
    "forest_importances = pd.Series(importances, index=feature_names)\n",
    "\n",
    "fig, ax = plt.subplots()\n",
    "forest_importances.plot.bar(yerr=std, ax=ax)\n",
    "ax.set_title(\"Feature importances using MDI\")\n",
    "ax.set_ylabel(\"Mean decrease in impurity\")\n",
    "fig.tight_layout()\n",
    "#ranking de feature: o quao importante a variável é para realizar predições\n",
    "#correlação diz que está correlacionado mas nao quer dizer que ter predição alta\n",
    "#reta preta é a variabilidade,incerteza quanto a estimação do valor\n",
    "#ordenar o gráfico"
   ]
  },
  {
   "cell_type": "code",
   "execution_count": null,
   "id": "611cad76",
   "metadata": {},
   "outputs": [],
   "source": [
    "#X_test\n",
    "X_test = test_set.iloc[:, 0:16].to_numpy()\n",
    "#Y_test\n",
    "y_test = test_set.loc[:, 'class'].to_numpy()\n",
    "#Train the model using the training sets  \n",
    "var = forest.fit(X_train,y_train) \n",
    "y_pred=forest.predict(X_test)"
   ]
  },
  {
   "cell_type": "code",
   "execution_count": null,
   "id": "a257736a",
   "metadata": {
    "scrolled": true
   },
   "outputs": [],
   "source": [
    "array_test = var.predict_proba(X_test)"
   ]
  },
  {
   "cell_type": "code",
   "execution_count": null,
   "id": "d2ab024c",
   "metadata": {},
   "outputs": [],
   "source": [
    "df_with_array_test = pd.DataFrame(array_test,columns=['%NaoTer','%Ter'])"
   ]
  },
  {
   "cell_type": "code",
   "execution_count": null,
   "id": "6810860f",
   "metadata": {
    "scrolled": true
   },
   "outputs": [],
   "source": [
    "df_with_array_test"
   ]
  },
  {
   "cell_type": "markdown",
   "id": "98b1d6f4",
   "metadata": {},
   "source": [
    "### Avaliação de Desempenho\n",
    "\n",
    "Avaliação de desempenho com todos os dados (sem separação de treino e teste)"
   ]
  },
  {
   "cell_type": "code",
   "execution_count": null,
   "id": "d00f2c73",
   "metadata": {},
   "outputs": [],
   "source": [
    "#y_train_positive = df[(df['class']=='Negative')]\n",
    "lin_mse = mean_squared_error(y_test, y_pred)\n",
    "lin_rmse = np.sqrt(lin_mse)\n",
    "lin_rmse"
   ]
  },
  {
   "cell_type": "markdown",
   "id": "c926a9ff",
   "metadata": {},
   "source": [
    "### Validação com Confusion Matrix"
   ]
  },
  {
   "cell_type": "code",
   "execution_count": null,
   "id": "649f80ac",
   "metadata": {},
   "outputs": [],
   "source": [
    "tn, fp, fn, tp = confusion_matrix(y_test, y_pred).ravel()"
   ]
  },
  {
   "cell_type": "code",
   "execution_count": null,
   "id": "74ed1c6b",
   "metadata": {},
   "outputs": [],
   "source": [
    "confusion_matrix(y_test, y_pred)"
   ]
  },
  {
   "cell_type": "code",
   "execution_count": null,
   "id": "8ab40618",
   "metadata": {},
   "outputs": [],
   "source": [
    "tn"
   ]
  },
  {
   "cell_type": "code",
   "execution_count": null,
   "id": "6a9028ba",
   "metadata": {},
   "outputs": [],
   "source": [
    "fp"
   ]
  },
  {
   "cell_type": "code",
   "execution_count": null,
   "id": "ed7a0316",
   "metadata": {},
   "outputs": [],
   "source": [
    "fn"
   ]
  },
  {
   "cell_type": "code",
   "execution_count": null,
   "id": "edbf5c4f",
   "metadata": {},
   "outputs": [],
   "source": [
    "tp"
   ]
  }
 ],
 "metadata": {
  "kernelspec": {
   "display_name": "Python 3",
   "language": "python",
   "name": "python3"
  },
  "language_info": {
   "codemirror_mode": {
    "name": "ipython",
    "version": 3
   },
   "file_extension": ".py",
   "mimetype": "text/x-python",
   "name": "python",
   "nbconvert_exporter": "python",
   "pygments_lexer": "ipython3",
   "version": "3.8.8"
  }
 },
 "nbformat": 4,
 "nbformat_minor": 5
}
